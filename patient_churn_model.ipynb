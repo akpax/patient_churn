{
 "cells": [
  {
   "cell_type": "code",
   "execution_count": 1,
   "metadata": {},
   "outputs": [
    {
     "name": "stdout",
     "output_type": "stream",
     "text": [
      "<class 'pandas.core.frame.DataFrame'>\n",
      "RangeIndex: 124462 entries, 0 to 124461\n",
      "Data columns (total 12 columns):\n",
      " #   Column                                                                     Non-Null Count   Dtype  \n",
      "---  ------                                                                     --------------   -----  \n",
      " 0   ID                                                                         124462 non-null  int64  \n",
      " 1   Sex                                                                        124462 non-null  int64  \n",
      " 2   Birth Year                                                                 124462 non-null  int64  \n",
      " 3   Death Year                                                                 22612 non-null   float64\n",
      " 4   Assignment Step Flag                                                       124462 non-null  int64  \n",
      " 5   Count of Primary Care Services                                             124462 non-null  int64  \n",
      " 6   Beneficiary had a date of death prior to the start of the benchmark year   124462 non-null  int64  \n",
      " 7   Beneficiary identifier is missing                                          124462 non-null  int64  \n",
      " 8   Beneficiary had at least one month of Part A-only Or Part B-only Coverage  124462 non-null  int64  \n",
      " 9   Beneficiary had at least one month in a Medicare Health Plan               124462 non-null  int64  \n",
      " 10  Beneficiary does not reside in the United States                           124462 non-null  int64  \n",
      " 11  Beneficiary included in other Shared Savings Initiatives                   124462 non-null  int64  \n",
      "dtypes: float64(1), int64(11)\n",
      "memory usage: 11.4 MB\n"
     ]
    },
    {
     "data": {
      "text/plain": [
       "None"
      ]
     },
     "metadata": {},
     "output_type": "display_data"
    },
    {
     "data": {
      "text/html": [
       "<div>\n",
       "<style scoped>\n",
       "    .dataframe tbody tr th:only-of-type {\n",
       "        vertical-align: middle;\n",
       "    }\n",
       "\n",
       "    .dataframe tbody tr th {\n",
       "        vertical-align: top;\n",
       "    }\n",
       "\n",
       "    .dataframe thead th {\n",
       "        text-align: right;\n",
       "    }\n",
       "</style>\n",
       "<table border=\"1\" class=\"dataframe\">\n",
       "  <thead>\n",
       "    <tr style=\"text-align: right;\">\n",
       "      <th></th>\n",
       "      <th>ID</th>\n",
       "      <th>Sex</th>\n",
       "      <th>Birth Year</th>\n",
       "      <th>Death Year</th>\n",
       "      <th>Assignment Step Flag</th>\n",
       "      <th>Count of Primary Care Services</th>\n",
       "      <th>Beneficiary had a date of death prior to the start of the benchmark year</th>\n",
       "      <th>Beneficiary identifier is missing</th>\n",
       "      <th>Beneficiary had at least one month of Part A-only Or Part B-only Coverage</th>\n",
       "      <th>Beneficiary had at least one month in a Medicare Health Plan</th>\n",
       "      <th>Beneficiary does not reside in the United States</th>\n",
       "      <th>Beneficiary included in other Shared Savings Initiatives</th>\n",
       "    </tr>\n",
       "  </thead>\n",
       "  <tbody>\n",
       "    <tr>\n",
       "      <th>0</th>\n",
       "      <td>1</td>\n",
       "      <td>2</td>\n",
       "      <td>1931</td>\n",
       "      <td>NaN</td>\n",
       "      <td>1</td>\n",
       "      <td>3</td>\n",
       "      <td>0</td>\n",
       "      <td>0</td>\n",
       "      <td>0</td>\n",
       "      <td>0</td>\n",
       "      <td>0</td>\n",
       "      <td>0</td>\n",
       "    </tr>\n",
       "    <tr>\n",
       "      <th>1</th>\n",
       "      <td>2</td>\n",
       "      <td>2</td>\n",
       "      <td>1933</td>\n",
       "      <td>2015.0</td>\n",
       "      <td>2</td>\n",
       "      <td>3</td>\n",
       "      <td>0</td>\n",
       "      <td>0</td>\n",
       "      <td>0</td>\n",
       "      <td>0</td>\n",
       "      <td>0</td>\n",
       "      <td>0</td>\n",
       "    </tr>\n",
       "    <tr>\n",
       "      <th>2</th>\n",
       "      <td>3</td>\n",
       "      <td>1</td>\n",
       "      <td>1933</td>\n",
       "      <td>NaN</td>\n",
       "      <td>1</td>\n",
       "      <td>3</td>\n",
       "      <td>0</td>\n",
       "      <td>0</td>\n",
       "      <td>0</td>\n",
       "      <td>0</td>\n",
       "      <td>0</td>\n",
       "      <td>0</td>\n",
       "    </tr>\n",
       "    <tr>\n",
       "      <th>3</th>\n",
       "      <td>4</td>\n",
       "      <td>2</td>\n",
       "      <td>1940</td>\n",
       "      <td>NaN</td>\n",
       "      <td>1</td>\n",
       "      <td>2</td>\n",
       "      <td>0</td>\n",
       "      <td>0</td>\n",
       "      <td>0</td>\n",
       "      <td>0</td>\n",
       "      <td>0</td>\n",
       "      <td>0</td>\n",
       "    </tr>\n",
       "    <tr>\n",
       "      <th>4</th>\n",
       "      <td>5</td>\n",
       "      <td>1</td>\n",
       "      <td>1943</td>\n",
       "      <td>NaN</td>\n",
       "      <td>1</td>\n",
       "      <td>2</td>\n",
       "      <td>0</td>\n",
       "      <td>0</td>\n",
       "      <td>0</td>\n",
       "      <td>0</td>\n",
       "      <td>0</td>\n",
       "      <td>0</td>\n",
       "    </tr>\n",
       "  </tbody>\n",
       "</table>\n",
       "</div>"
      ],
      "text/plain": [
       "   ID  Sex  Birth Year  Death Year  Assignment Step Flag  \\\n",
       "0   1    2        1931         NaN                     1   \n",
       "1   2    2        1933      2015.0                     2   \n",
       "2   3    1        1933         NaN                     1   \n",
       "3   4    2        1940         NaN                     1   \n",
       "4   5    1        1943         NaN                     1   \n",
       "\n",
       "   Count of Primary Care Services  \\\n",
       "0                               3   \n",
       "1                               3   \n",
       "2                               3   \n",
       "3                               2   \n",
       "4                               2   \n",
       "\n",
       "   Beneficiary had a date of death prior to the start of the benchmark year  \\\n",
       "0                                                                         0   \n",
       "1                                                                         0   \n",
       "2                                                                         0   \n",
       "3                                                                         0   \n",
       "4                                                                         0   \n",
       "\n",
       "   Beneficiary identifier is missing  \\\n",
       "0                                  0   \n",
       "1                                  0   \n",
       "2                                  0   \n",
       "3                                  0   \n",
       "4                                  0   \n",
       "\n",
       "   Beneficiary had at least one month of Part A-only Or Part B-only Coverage  \\\n",
       "0                                                                          0   \n",
       "1                                                                          0   \n",
       "2                                                                          0   \n",
       "3                                                                          0   \n",
       "4                                                                          0   \n",
       "\n",
       "   Beneficiary had at least one month in a Medicare Health Plan  \\\n",
       "0                                                             0   \n",
       "1                                                             0   \n",
       "2                                                             0   \n",
       "3                                                             0   \n",
       "4                                                             0   \n",
       "\n",
       "   Beneficiary does not reside in the United States  \\\n",
       "0                                                 0   \n",
       "1                                                 0   \n",
       "2                                                 0   \n",
       "3                                                 0   \n",
       "4                                                 0   \n",
       "\n",
       "   Beneficiary included in other Shared Savings Initiatives  \n",
       "0                                                         0  \n",
       "1                                                         0  \n",
       "2                                                         0  \n",
       "3                                                         0  \n",
       "4                                                         0  "
      ]
     },
     "metadata": {},
     "output_type": "display_data"
    }
   ],
   "source": [
    "import pandas as pd\n",
    "import numpy as np\n",
    "from sklearn.ensemble import RandomForestClassifier\n",
    "from sklearn.model_selection import train_test_split\n",
    "from sklearn.metrics import f1_score, accuracy_score\n",
    "from fastai.tabular.all import *\n",
    "from fastai.tabular.core import cont_cat_split\n",
    "\n",
    "pd.options.mode.copy_on_write = True\n",
    "\n",
    "\n",
    "\n",
    "df = pd.read_csv(\"https://s3-us-west-1.amazonaws.com/epicactuaryhealth/patient_churn.csv\")\n",
    "\n",
    "display(df.info())\n",
    "\n",
    "display(df.head())\n"
   ]
  },
  {
   "cell_type": "code",
   "execution_count": 2,
   "metadata": {},
   "outputs": [
    {
     "data": {
      "text/html": [
       "<div>\n",
       "<style scoped>\n",
       "    .dataframe tbody tr th:only-of-type {\n",
       "        vertical-align: middle;\n",
       "    }\n",
       "\n",
       "    .dataframe tbody tr th {\n",
       "        vertical-align: top;\n",
       "    }\n",
       "\n",
       "    .dataframe thead th {\n",
       "        text-align: right;\n",
       "    }\n",
       "</style>\n",
       "<table border=\"1\" class=\"dataframe\">\n",
       "  <thead>\n",
       "    <tr style=\"text-align: right;\">\n",
       "      <th></th>\n",
       "      <th>ID</th>\n",
       "      <th>Sex</th>\n",
       "      <th>Birth Year</th>\n",
       "      <th>Death Year</th>\n",
       "      <th>Assignment Step Flag</th>\n",
       "      <th>Count of Primary Care Services</th>\n",
       "      <th>Beneficiary had a date of death prior to the start of the benchmark year</th>\n",
       "      <th>Beneficiary identifier is missing</th>\n",
       "      <th>Beneficiary had at least one month of Part A-only Or Part B-only Coverage</th>\n",
       "      <th>Beneficiary had at least one month in a Medicare Health Plan</th>\n",
       "      <th>Beneficiary does not reside in the United States</th>\n",
       "      <th>Beneficiary included in other Shared Savings Initiatives</th>\n",
       "      <th>churn_reason_code</th>\n",
       "    </tr>\n",
       "  </thead>\n",
       "  <tbody>\n",
       "    <tr>\n",
       "      <th>0</th>\n",
       "      <td>1</td>\n",
       "      <td>2</td>\n",
       "      <td>1931</td>\n",
       "      <td>NaN</td>\n",
       "      <td>1</td>\n",
       "      <td>3</td>\n",
       "      <td>0</td>\n",
       "      <td>0</td>\n",
       "      <td>0</td>\n",
       "      <td>0</td>\n",
       "      <td>0</td>\n",
       "      <td>0</td>\n",
       "      <td>None</td>\n",
       "    </tr>\n",
       "    <tr>\n",
       "      <th>1</th>\n",
       "      <td>2</td>\n",
       "      <td>2</td>\n",
       "      <td>1933</td>\n",
       "      <td>2015.0</td>\n",
       "      <td>2</td>\n",
       "      <td>3</td>\n",
       "      <td>0</td>\n",
       "      <td>0</td>\n",
       "      <td>0</td>\n",
       "      <td>0</td>\n",
       "      <td>0</td>\n",
       "      <td>0</td>\n",
       "      <td>None</td>\n",
       "    </tr>\n",
       "    <tr>\n",
       "      <th>2</th>\n",
       "      <td>3</td>\n",
       "      <td>1</td>\n",
       "      <td>1933</td>\n",
       "      <td>NaN</td>\n",
       "      <td>1</td>\n",
       "      <td>3</td>\n",
       "      <td>0</td>\n",
       "      <td>0</td>\n",
       "      <td>0</td>\n",
       "      <td>0</td>\n",
       "      <td>0</td>\n",
       "      <td>0</td>\n",
       "      <td>None</td>\n",
       "    </tr>\n",
       "    <tr>\n",
       "      <th>3</th>\n",
       "      <td>4</td>\n",
       "      <td>2</td>\n",
       "      <td>1940</td>\n",
       "      <td>NaN</td>\n",
       "      <td>1</td>\n",
       "      <td>2</td>\n",
       "      <td>0</td>\n",
       "      <td>0</td>\n",
       "      <td>0</td>\n",
       "      <td>0</td>\n",
       "      <td>0</td>\n",
       "      <td>0</td>\n",
       "      <td>None</td>\n",
       "    </tr>\n",
       "    <tr>\n",
       "      <th>4</th>\n",
       "      <td>5</td>\n",
       "      <td>1</td>\n",
       "      <td>1943</td>\n",
       "      <td>NaN</td>\n",
       "      <td>1</td>\n",
       "      <td>2</td>\n",
       "      <td>0</td>\n",
       "      <td>0</td>\n",
       "      <td>0</td>\n",
       "      <td>0</td>\n",
       "      <td>0</td>\n",
       "      <td>0</td>\n",
       "      <td>None</td>\n",
       "    </tr>\n",
       "  </tbody>\n",
       "</table>\n",
       "</div>"
      ],
      "text/plain": [
       "   ID  Sex  Birth Year  Death Year  Assignment Step Flag  \\\n",
       "0   1    2        1931         NaN                     1   \n",
       "1   2    2        1933      2015.0                     2   \n",
       "2   3    1        1933         NaN                     1   \n",
       "3   4    2        1940         NaN                     1   \n",
       "4   5    1        1943         NaN                     1   \n",
       "\n",
       "   Count of Primary Care Services  \\\n",
       "0                               3   \n",
       "1                               3   \n",
       "2                               3   \n",
       "3                               2   \n",
       "4                               2   \n",
       "\n",
       "   Beneficiary had a date of death prior to the start of the benchmark year  \\\n",
       "0                                                                         0   \n",
       "1                                                                         0   \n",
       "2                                                                         0   \n",
       "3                                                                         0   \n",
       "4                                                                         0   \n",
       "\n",
       "   Beneficiary identifier is missing  \\\n",
       "0                                  0   \n",
       "1                                  0   \n",
       "2                                  0   \n",
       "3                                  0   \n",
       "4                                  0   \n",
       "\n",
       "   Beneficiary had at least one month of Part A-only Or Part B-only Coverage  \\\n",
       "0                                                                          0   \n",
       "1                                                                          0   \n",
       "2                                                                          0   \n",
       "3                                                                          0   \n",
       "4                                                                          0   \n",
       "\n",
       "   Beneficiary had at least one month in a Medicare Health Plan  \\\n",
       "0                                                             0   \n",
       "1                                                             0   \n",
       "2                                                             0   \n",
       "3                                                             0   \n",
       "4                                                             0   \n",
       "\n",
       "   Beneficiary does not reside in the United States  \\\n",
       "0                                                 0   \n",
       "1                                                 0   \n",
       "2                                                 0   \n",
       "3                                                 0   \n",
       "4                                                 0   \n",
       "\n",
       "   Beneficiary included in other Shared Savings Initiatives churn_reason_code  \n",
       "0                                                         0              None  \n",
       "1                                                         0              None  \n",
       "2                                                         0              None  \n",
       "3                                                         0              None  \n",
       "4                                                         0              None  "
      ]
     },
     "metadata": {},
     "output_type": "display_data"
    }
   ],
   "source": [
    "# create churn reason target column\n",
    "\n",
    "# Conditions for each churn reason\n",
    "conditions = [\n",
    "    df['Beneficiary had a date of death prior to the start of the benchmark year'] == 1,\n",
    "    df['Beneficiary identifier is missing'] == 1,\n",
    "    df['Beneficiary had at least one month of Part A-only Or Part B-only Coverage'] == 1,\n",
    "    df['Beneficiary had at least one month in a Medicare Health Plan'] == 1,\n",
    "    df['Beneficiary does not reside in the United States'] == 1,\n",
    "    df['Beneficiary included in other Shared Savings Initiatives'] == 1\n",
    "]\n",
    "\n",
    "# Corresponding two-letter codes for each condition\n",
    "choices = ['DD', 'IM', 'AB', 'MH', 'NR', 'OI']\n",
    "\n",
    "# Default code if no conditions are met\n",
    "default = None\n",
    "\n",
    "# Use numpy.select to apply conditions and choices\n",
    "df['churn_reason_code'] = np.select(conditions, choices, default=default)\n",
    "\n",
    "display(df.head())"
   ]
  },
  {
   "cell_type": "code",
   "execution_count": 3,
   "metadata": {},
   "outputs": [
    {
     "data": {
      "text/html": [
       "<div>\n",
       "<style scoped>\n",
       "    .dataframe tbody tr th:only-of-type {\n",
       "        vertical-align: middle;\n",
       "    }\n",
       "\n",
       "    .dataframe tbody tr th {\n",
       "        vertical-align: top;\n",
       "    }\n",
       "\n",
       "    .dataframe thead th {\n",
       "        text-align: right;\n",
       "    }\n",
       "</style>\n",
       "<table border=\"1\" class=\"dataframe\">\n",
       "  <thead>\n",
       "    <tr style=\"text-align: right;\">\n",
       "      <th></th>\n",
       "      <th>ID</th>\n",
       "      <th>Sex</th>\n",
       "      <th>Birth Year</th>\n",
       "      <th>Death Year</th>\n",
       "      <th>Assignment Step Flag</th>\n",
       "      <th>Count of Primary Care Services</th>\n",
       "      <th>churn_reason_code</th>\n",
       "    </tr>\n",
       "  </thead>\n",
       "  <tbody>\n",
       "    <tr>\n",
       "      <th>0</th>\n",
       "      <td>24</td>\n",
       "      <td>1</td>\n",
       "      <td>1983</td>\n",
       "      <td>NaN</td>\n",
       "      <td>2</td>\n",
       "      <td>1</td>\n",
       "      <td>MH</td>\n",
       "    </tr>\n",
       "    <tr>\n",
       "      <th>1</th>\n",
       "      <td>33</td>\n",
       "      <td>1</td>\n",
       "      <td>1939</td>\n",
       "      <td>NaN</td>\n",
       "      <td>2</td>\n",
       "      <td>10</td>\n",
       "      <td>MH</td>\n",
       "    </tr>\n",
       "    <tr>\n",
       "      <th>2</th>\n",
       "      <td>34</td>\n",
       "      <td>2</td>\n",
       "      <td>1937</td>\n",
       "      <td>2017.0</td>\n",
       "      <td>1</td>\n",
       "      <td>10</td>\n",
       "      <td>MH</td>\n",
       "    </tr>\n",
       "    <tr>\n",
       "      <th>3</th>\n",
       "      <td>35</td>\n",
       "      <td>2</td>\n",
       "      <td>1939</td>\n",
       "      <td>NaN</td>\n",
       "      <td>2</td>\n",
       "      <td>10</td>\n",
       "      <td>MH</td>\n",
       "    </tr>\n",
       "    <tr>\n",
       "      <th>4</th>\n",
       "      <td>49</td>\n",
       "      <td>2</td>\n",
       "      <td>1952</td>\n",
       "      <td>2016.0</td>\n",
       "      <td>1</td>\n",
       "      <td>4</td>\n",
       "      <td>MH</td>\n",
       "    </tr>\n",
       "  </tbody>\n",
       "</table>\n",
       "</div>"
      ],
      "text/plain": [
       "   ID  Sex  Birth Year  Death Year  Assignment Step Flag  \\\n",
       "0  24    1        1983         NaN                     2   \n",
       "1  33    1        1939         NaN                     2   \n",
       "2  34    2        1937      2017.0                     1   \n",
       "3  35    2        1939         NaN                     2   \n",
       "4  49    2        1952      2016.0                     1   \n",
       "\n",
       "   Count of Primary Care Services churn_reason_code  \n",
       "0                               1                MH  \n",
       "1                              10                MH  \n",
       "2                              10                MH  \n",
       "3                              10                MH  \n",
       "4                               4                MH  "
      ]
     },
     "metadata": {},
     "output_type": "display_data"
    },
    {
     "name": "stdout",
     "output_type": "stream",
     "text": [
      "DF length including churn and non-churn patients: 124462\n",
      "DF length with churn only patients 15017\n"
     ]
    }
   ],
   "source": [
    "# filter dataframe so target only has churned patients\n",
    "\n",
    "churn_df = df[df[\"churn_reason_code\"].notnull()]\n",
    "churn_df.drop(churn_df.columns[6:-1],axis=1,inplace=True)\n",
    "churn_df.reset_index(inplace=True, drop=True)\n",
    "display(churn_df.head())\n",
    "\n",
    "print(f\"DF length including churn and non-churn patients: {len(df)}\")\n",
    "print(f\"DF length with churn only patients {len(churn_df)}\")"
   ]
  },
  {
   "cell_type": "code",
   "execution_count": 4,
   "metadata": {},
   "outputs": [
    {
     "data": {
      "text/html": [
       "<div>\n",
       "<style scoped>\n",
       "    .dataframe tbody tr th:only-of-type {\n",
       "        vertical-align: middle;\n",
       "    }\n",
       "\n",
       "    .dataframe tbody tr th {\n",
       "        vertical-align: top;\n",
       "    }\n",
       "\n",
       "    .dataframe thead th {\n",
       "        text-align: right;\n",
       "    }\n",
       "</style>\n",
       "<table border=\"1\" class=\"dataframe\">\n",
       "  <thead>\n",
       "    <tr style=\"text-align: right;\">\n",
       "      <th></th>\n",
       "      <th>ID</th>\n",
       "      <th>Sex</th>\n",
       "      <th>Birth Year</th>\n",
       "      <th>Death Year</th>\n",
       "      <th>Assignment Step Flag</th>\n",
       "      <th>Count of Primary Care Services</th>\n",
       "      <th>churn_reason_code</th>\n",
       "      <th>age</th>\n",
       "    </tr>\n",
       "  </thead>\n",
       "  <tbody>\n",
       "    <tr>\n",
       "      <th>0</th>\n",
       "      <td>24</td>\n",
       "      <td>1</td>\n",
       "      <td>1983</td>\n",
       "      <td>NaN</td>\n",
       "      <td>2</td>\n",
       "      <td>1</td>\n",
       "      <td>MH</td>\n",
       "      <td>41.0</td>\n",
       "    </tr>\n",
       "    <tr>\n",
       "      <th>1</th>\n",
       "      <td>33</td>\n",
       "      <td>1</td>\n",
       "      <td>1939</td>\n",
       "      <td>NaN</td>\n",
       "      <td>2</td>\n",
       "      <td>10</td>\n",
       "      <td>MH</td>\n",
       "      <td>85.0</td>\n",
       "    </tr>\n",
       "    <tr>\n",
       "      <th>2</th>\n",
       "      <td>34</td>\n",
       "      <td>2</td>\n",
       "      <td>1937</td>\n",
       "      <td>2017.0</td>\n",
       "      <td>1</td>\n",
       "      <td>10</td>\n",
       "      <td>MH</td>\n",
       "      <td>80.0</td>\n",
       "    </tr>\n",
       "    <tr>\n",
       "      <th>3</th>\n",
       "      <td>35</td>\n",
       "      <td>2</td>\n",
       "      <td>1939</td>\n",
       "      <td>NaN</td>\n",
       "      <td>2</td>\n",
       "      <td>10</td>\n",
       "      <td>MH</td>\n",
       "      <td>85.0</td>\n",
       "    </tr>\n",
       "    <tr>\n",
       "      <th>4</th>\n",
       "      <td>49</td>\n",
       "      <td>2</td>\n",
       "      <td>1952</td>\n",
       "      <td>2016.0</td>\n",
       "      <td>1</td>\n",
       "      <td>4</td>\n",
       "      <td>MH</td>\n",
       "      <td>64.0</td>\n",
       "    </tr>\n",
       "  </tbody>\n",
       "</table>\n",
       "</div>"
      ],
      "text/plain": [
       "   ID  Sex  Birth Year  Death Year  Assignment Step Flag  \\\n",
       "0  24    1        1983         NaN                     2   \n",
       "1  33    1        1939         NaN                     2   \n",
       "2  34    2        1937      2017.0                     1   \n",
       "3  35    2        1939         NaN                     2   \n",
       "4  49    2        1952      2016.0                     1   \n",
       "\n",
       "   Count of Primary Care Services churn_reason_code   age  \n",
       "0                               1                MH  41.0  \n",
       "1                              10                MH  85.0  \n",
       "2                              10                MH  80.0  \n",
       "3                              10                MH  85.0  \n",
       "4                               4                MH  64.0  "
      ]
     },
     "execution_count": 4,
     "metadata": {},
     "output_type": "execute_result"
    }
   ],
   "source": [
    "# add age column \n",
    "def calculate_age(birth_year, death_year):\n",
    "    if pd.notnull(death_year):\n",
    "        return death_year-birth_year\n",
    "    else:\n",
    "        return 2024-birth_year\n",
    "    \n",
    "churn_df[\"age\"] = churn_df.apply(lambda row: calculate_age(row[\"Birth Year\"], row[\"Death Year\"]),axis=1)\n",
    "churn_df.head()"
   ]
  },
  {
   "cell_type": "code",
   "execution_count": 5,
   "metadata": {},
   "outputs": [
    {
     "data": {
      "text/html": [
       "<div>\n",
       "<style scoped>\n",
       "    .dataframe tbody tr th:only-of-type {\n",
       "        vertical-align: middle;\n",
       "    }\n",
       "\n",
       "    .dataframe tbody tr th {\n",
       "        vertical-align: top;\n",
       "    }\n",
       "\n",
       "    .dataframe thead th {\n",
       "        text-align: right;\n",
       "    }\n",
       "</style>\n",
       "<table border=\"1\" class=\"dataframe\">\n",
       "  <thead>\n",
       "    <tr style=\"text-align: right;\">\n",
       "      <th></th>\n",
       "      <th>ID</th>\n",
       "      <th>Sex</th>\n",
       "      <th>Birth Year</th>\n",
       "      <th>Assignment Step Flag</th>\n",
       "      <th>Count of Primary Care Services</th>\n",
       "      <th>churn_reason_code</th>\n",
       "      <th>age</th>\n",
       "      <th>is_dead</th>\n",
       "    </tr>\n",
       "  </thead>\n",
       "  <tbody>\n",
       "    <tr>\n",
       "      <th>0</th>\n",
       "      <td>24</td>\n",
       "      <td>1</td>\n",
       "      <td>1983</td>\n",
       "      <td>2</td>\n",
       "      <td>1</td>\n",
       "      <td>MH</td>\n",
       "      <td>41.0</td>\n",
       "      <td>0</td>\n",
       "    </tr>\n",
       "    <tr>\n",
       "      <th>1</th>\n",
       "      <td>33</td>\n",
       "      <td>1</td>\n",
       "      <td>1939</td>\n",
       "      <td>2</td>\n",
       "      <td>10</td>\n",
       "      <td>MH</td>\n",
       "      <td>85.0</td>\n",
       "      <td>1</td>\n",
       "    </tr>\n",
       "    <tr>\n",
       "      <th>2</th>\n",
       "      <td>34</td>\n",
       "      <td>2</td>\n",
       "      <td>1937</td>\n",
       "      <td>1</td>\n",
       "      <td>10</td>\n",
       "      <td>MH</td>\n",
       "      <td>80.0</td>\n",
       "      <td>0</td>\n",
       "    </tr>\n",
       "    <tr>\n",
       "      <th>3</th>\n",
       "      <td>35</td>\n",
       "      <td>2</td>\n",
       "      <td>1939</td>\n",
       "      <td>2</td>\n",
       "      <td>10</td>\n",
       "      <td>MH</td>\n",
       "      <td>85.0</td>\n",
       "      <td>0</td>\n",
       "    </tr>\n",
       "    <tr>\n",
       "      <th>4</th>\n",
       "      <td>49</td>\n",
       "      <td>2</td>\n",
       "      <td>1952</td>\n",
       "      <td>1</td>\n",
       "      <td>4</td>\n",
       "      <td>MH</td>\n",
       "      <td>64.0</td>\n",
       "      <td>0</td>\n",
       "    </tr>\n",
       "  </tbody>\n",
       "</table>\n",
       "</div>"
      ],
      "text/plain": [
       "   ID  Sex  Birth Year  Assignment Step Flag  Count of Primary Care Services  \\\n",
       "0  24    1        1983                     2                               1   \n",
       "1  33    1        1939                     2                              10   \n",
       "2  34    2        1937                     1                              10   \n",
       "3  35    2        1939                     2                              10   \n",
       "4  49    2        1952                     1                               4   \n",
       "\n",
       "  churn_reason_code   age  is_dead  \n",
       "0                MH  41.0        0  \n",
       "1                MH  85.0        1  \n",
       "2                MH  80.0        0  \n",
       "3                MH  85.0        0  \n",
       "4                MH  64.0        0  "
      ]
     },
     "execution_count": 5,
     "metadata": {},
     "output_type": "execute_result"
    }
   ],
   "source": [
    "# add dead flag and remove column\n",
    "def is_dead(death_year):\n",
    "    if pd.notnull(death_year):\n",
    "        return 1\n",
    "    else: \n",
    "        return 0\n",
    "churn_df[\"is_dead\"] = churn=df.apply(lambda row: is_dead(row[\"Death Year\"]),axis=1)\n",
    "\n",
    "churn_df.drop(columns=\"Death Year\", inplace=True)\n",
    "churn_df.head()"
   ]
  },
  {
   "cell_type": "code",
   "execution_count": 6,
   "metadata": {},
   "outputs": [
    {
     "data": {
      "text/html": [
       "<div>\n",
       "<style scoped>\n",
       "    .dataframe tbody tr th:only-of-type {\n",
       "        vertical-align: middle;\n",
       "    }\n",
       "\n",
       "    .dataframe tbody tr th {\n",
       "        vertical-align: top;\n",
       "    }\n",
       "\n",
       "    .dataframe thead th {\n",
       "        text-align: right;\n",
       "    }\n",
       "</style>\n",
       "<table border=\"1\" class=\"dataframe\">\n",
       "  <thead>\n",
       "    <tr style=\"text-align: right;\">\n",
       "      <th></th>\n",
       "      <th>Sex</th>\n",
       "      <th>Birth Year</th>\n",
       "      <th>Assignment Step Flag</th>\n",
       "      <th>Count of Primary Care Services</th>\n",
       "      <th>churn_reason_code</th>\n",
       "      <th>age</th>\n",
       "      <th>is_dead</th>\n",
       "    </tr>\n",
       "  </thead>\n",
       "  <tbody>\n",
       "    <tr>\n",
       "      <th>0</th>\n",
       "      <td>1</td>\n",
       "      <td>1983</td>\n",
       "      <td>2</td>\n",
       "      <td>1</td>\n",
       "      <td>MH</td>\n",
       "      <td>41.0</td>\n",
       "      <td>0</td>\n",
       "    </tr>\n",
       "    <tr>\n",
       "      <th>1</th>\n",
       "      <td>1</td>\n",
       "      <td>1939</td>\n",
       "      <td>2</td>\n",
       "      <td>10</td>\n",
       "      <td>MH</td>\n",
       "      <td>85.0</td>\n",
       "      <td>1</td>\n",
       "    </tr>\n",
       "    <tr>\n",
       "      <th>2</th>\n",
       "      <td>2</td>\n",
       "      <td>1937</td>\n",
       "      <td>1</td>\n",
       "      <td>10</td>\n",
       "      <td>MH</td>\n",
       "      <td>80.0</td>\n",
       "      <td>0</td>\n",
       "    </tr>\n",
       "    <tr>\n",
       "      <th>3</th>\n",
       "      <td>2</td>\n",
       "      <td>1939</td>\n",
       "      <td>2</td>\n",
       "      <td>10</td>\n",
       "      <td>MH</td>\n",
       "      <td>85.0</td>\n",
       "      <td>0</td>\n",
       "    </tr>\n",
       "    <tr>\n",
       "      <th>4</th>\n",
       "      <td>2</td>\n",
       "      <td>1952</td>\n",
       "      <td>1</td>\n",
       "      <td>4</td>\n",
       "      <td>MH</td>\n",
       "      <td>64.0</td>\n",
       "      <td>0</td>\n",
       "    </tr>\n",
       "  </tbody>\n",
       "</table>\n",
       "</div>"
      ],
      "text/plain": [
       "   Sex  Birth Year  Assignment Step Flag  Count of Primary Care Services  \\\n",
       "0    1        1983                     2                               1   \n",
       "1    1        1939                     2                              10   \n",
       "2    2        1937                     1                              10   \n",
       "3    2        1939                     2                              10   \n",
       "4    2        1952                     1                               4   \n",
       "\n",
       "  churn_reason_code   age  is_dead  \n",
       "0                MH  41.0        0  \n",
       "1                MH  85.0        1  \n",
       "2                MH  80.0        0  \n",
       "3                MH  85.0        0  \n",
       "4                MH  64.0        0  "
      ]
     },
     "execution_count": 6,
     "metadata": {},
     "output_type": "execute_result"
    }
   ],
   "source": [
    "# drop ID\n",
    "\n",
    "churn_df.drop(columns=\"ID\", inplace=True)\n",
    "churn_df.head()"
   ]
  },
  {
   "cell_type": "code",
   "execution_count": 7,
   "metadata": {},
   "outputs": [
    {
     "name": "stdout",
     "output_type": "stream",
     "text": [
      "cont=['Birth Year', 'Count of Primary Care Services', 'age']\n",
      "cat=['Sex', 'Assignment Step Flag', 'is_dead']\n"
     ]
    }
   ],
   "source": [
    "# automatically determine continuous and categorical columns\n",
    "cont,cat = cont_cat_split(churn_df, dep_var=\"churn_reason_code\")\n",
    "\n",
    "print(f\"{cont=}\")\n",
    "print(f\"{cat=}\")\n",
    "\n"
   ]
  },
  {
   "cell_type": "code",
   "execution_count": 8,
   "metadata": {},
   "outputs": [
    {
     "name": "stdout",
     "output_type": "stream",
     "text": [
      "12764\n",
      "2253\n",
      "Index(['Sex', 'Birth Year', 'Assignment Step Flag',\n",
      "       'Count of Primary Care Services', 'churn_reason_code', 'age',\n",
      "       'is_dead'],\n",
      "      dtype='object')\n"
     ]
    },
    {
     "data": {
      "text/html": [
       "<div>\n",
       "<style scoped>\n",
       "    .dataframe tbody tr th:only-of-type {\n",
       "        vertical-align: middle;\n",
       "    }\n",
       "\n",
       "    .dataframe tbody tr th {\n",
       "        vertical-align: top;\n",
       "    }\n",
       "\n",
       "    .dataframe thead th {\n",
       "        text-align: right;\n",
       "    }\n",
       "</style>\n",
       "<table border=\"1\" class=\"dataframe\">\n",
       "  <thead>\n",
       "    <tr style=\"text-align: right;\">\n",
       "      <th></th>\n",
       "      <th>Sex</th>\n",
       "      <th>Birth Year</th>\n",
       "      <th>Assignment Step Flag</th>\n",
       "      <th>Count of Primary Care Services</th>\n",
       "      <th>churn_reason_code</th>\n",
       "      <th>age</th>\n",
       "      <th>is_dead</th>\n",
       "    </tr>\n",
       "  </thead>\n",
       "  <tbody>\n",
       "    <tr>\n",
       "      <th>12759</th>\n",
       "      <td>2</td>\n",
       "      <td>1977</td>\n",
       "      <td>1</td>\n",
       "      <td>2</td>\n",
       "      <td>AB</td>\n",
       "      <td>47.0</td>\n",
       "      <td>0</td>\n",
       "    </tr>\n",
       "    <tr>\n",
       "      <th>12760</th>\n",
       "      <td>2</td>\n",
       "      <td>1948</td>\n",
       "      <td>1</td>\n",
       "      <td>1</td>\n",
       "      <td>MH</td>\n",
       "      <td>76.0</td>\n",
       "      <td>0</td>\n",
       "    </tr>\n",
       "    <tr>\n",
       "      <th>12761</th>\n",
       "      <td>2</td>\n",
       "      <td>1941</td>\n",
       "      <td>1</td>\n",
       "      <td>1</td>\n",
       "      <td>MH</td>\n",
       "      <td>83.0</td>\n",
       "      <td>0</td>\n",
       "    </tr>\n",
       "    <tr>\n",
       "      <th>12762</th>\n",
       "      <td>2</td>\n",
       "      <td>1937</td>\n",
       "      <td>1</td>\n",
       "      <td>1</td>\n",
       "      <td>MH</td>\n",
       "      <td>87.0</td>\n",
       "      <td>1</td>\n",
       "    </tr>\n",
       "    <tr>\n",
       "      <th>12763</th>\n",
       "      <td>1</td>\n",
       "      <td>1948</td>\n",
       "      <td>1</td>\n",
       "      <td>2</td>\n",
       "      <td>MH</td>\n",
       "      <td>76.0</td>\n",
       "      <td>0</td>\n",
       "    </tr>\n",
       "  </tbody>\n",
       "</table>\n",
       "</div>"
      ],
      "text/plain": [
       "       Sex  Birth Year  Assignment Step Flag  Count of Primary Care Services  \\\n",
       "12759    2        1977                     1                               2   \n",
       "12760    2        1948                     1                               1   \n",
       "12761    2        1941                     1                               1   \n",
       "12762    2        1937                     1                               1   \n",
       "12763    1        1948                     1                               2   \n",
       "\n",
       "      churn_reason_code   age  is_dead  \n",
       "12759                AB  47.0        0  \n",
       "12760                MH  76.0        0  \n",
       "12761                MH  83.0        0  \n",
       "12762                MH  87.0        1  \n",
       "12763                MH  76.0        0  "
      ]
     },
     "execution_count": 8,
     "metadata": {},
     "output_type": "execute_result"
    }
   ],
   "source": [
    "# split data into training and testing data\n",
    "train, test = train_test_split(churn_df, train_size=0.85)\n",
    "print(len(train)) \n",
    "print(len(test))\n",
    "train.reset_index(inplace=True,drop=True)\n",
    "test.reset_index(inplace=True, drop=True)\n",
    "print(train.columns)\n",
    "train.tail()\n"
   ]
  },
  {
   "cell_type": "code",
   "execution_count": 9,
   "metadata": {},
   "outputs": [
    {
     "name": "stdout",
     "output_type": "stream",
     "text": [
      "len(splits[0])=10211\n",
      "len(splits[1])=2553\n"
     ]
    }
   ],
   "source": [
    "# create splits for training and validation data using the train data from cell above\n",
    "idx = train.index\n",
    "idx_rand = np.random.permutation(idx)\n",
    "n_train = round(len(idx_rand)*0.8)\n",
    "splits = (list(idx_rand[:n_train]),list(idx_rand[n_train:]))\n",
    "\n",
    "print(f\"{len(splits[0])=}\")\n",
    "print(f\"{len(splits[1])=}\")\n"
   ]
  },
  {
   "cell_type": "code",
   "execution_count": 10,
   "metadata": {},
   "outputs": [],
   "source": [
    "# use TabularPandas from fastai to categorify values\n",
    "procs = [Categorify]\n",
    "train_tb = TabularPandas(train, procs, cat_names=cat, cont_names=cont, y_names=\"churn_reason_code\", splits=splits)"
   ]
  },
  {
   "cell_type": "code",
   "execution_count": 11,
   "metadata": {},
   "outputs": [
    {
     "data": {
      "text/html": [
       "<table border=\"1\" class=\"dataframe\">\n",
       "  <thead>\n",
       "    <tr style=\"text-align: right;\">\n",
       "      <th></th>\n",
       "      <th>Sex</th>\n",
       "      <th>Assignment Step Flag</th>\n",
       "      <th>is_dead</th>\n",
       "      <th>Birth Year</th>\n",
       "      <th>Count of Primary Care Services</th>\n",
       "      <th>age</th>\n",
       "      <th>churn_reason_code</th>\n",
       "    </tr>\n",
       "  </thead>\n",
       "  <tbody>\n",
       "    <tr>\n",
       "      <th>1765</th>\n",
       "      <td>2</td>\n",
       "      <td>1</td>\n",
       "      <td>0</td>\n",
       "      <td>1946</td>\n",
       "      <td>1</td>\n",
       "      <td>78.0</td>\n",
       "      <td>MH</td>\n",
       "    </tr>\n",
       "    <tr>\n",
       "      <th>7692</th>\n",
       "      <td>1</td>\n",
       "      <td>1</td>\n",
       "      <td>0</td>\n",
       "      <td>1928</td>\n",
       "      <td>3</td>\n",
       "      <td>86.0</td>\n",
       "      <td>DD</td>\n",
       "    </tr>\n",
       "    <tr>\n",
       "      <th>1403</th>\n",
       "      <td>2</td>\n",
       "      <td>1</td>\n",
       "      <td>0</td>\n",
       "      <td>1959</td>\n",
       "      <td>8</td>\n",
       "      <td>65.0</td>\n",
       "      <td>MH</td>\n",
       "    </tr>\n",
       "    <tr>\n",
       "      <th>7739</th>\n",
       "      <td>2</td>\n",
       "      <td>1</td>\n",
       "      <td>0</td>\n",
       "      <td>1928</td>\n",
       "      <td>3</td>\n",
       "      <td>96.0</td>\n",
       "      <td>MH</td>\n",
       "    </tr>\n",
       "    <tr>\n",
       "      <th>452</th>\n",
       "      <td>1</td>\n",
       "      <td>1</td>\n",
       "      <td>0</td>\n",
       "      <td>1933</td>\n",
       "      <td>2</td>\n",
       "      <td>81.0</td>\n",
       "      <td>DD</td>\n",
       "    </tr>\n",
       "    <tr>\n",
       "      <th>8385</th>\n",
       "      <td>1</td>\n",
       "      <td>1</td>\n",
       "      <td>0</td>\n",
       "      <td>1943</td>\n",
       "      <td>1</td>\n",
       "      <td>81.0</td>\n",
       "      <td>MH</td>\n",
       "    </tr>\n",
       "    <tr>\n",
       "      <th>4153</th>\n",
       "      <td>2</td>\n",
       "      <td>1</td>\n",
       "      <td>0</td>\n",
       "      <td>1948</td>\n",
       "      <td>4</td>\n",
       "      <td>76.0</td>\n",
       "      <td>MH</td>\n",
       "    </tr>\n",
       "    <tr>\n",
       "      <th>4355</th>\n",
       "      <td>1</td>\n",
       "      <td>1</td>\n",
       "      <td>0</td>\n",
       "      <td>1922</td>\n",
       "      <td>6</td>\n",
       "      <td>92.0</td>\n",
       "      <td>DD</td>\n",
       "    </tr>\n",
       "    <tr>\n",
       "      <th>10945</th>\n",
       "      <td>2</td>\n",
       "      <td>1</td>\n",
       "      <td>0</td>\n",
       "      <td>1931</td>\n",
       "      <td>2</td>\n",
       "      <td>83.0</td>\n",
       "      <td>DD</td>\n",
       "    </tr>\n",
       "    <tr>\n",
       "      <th>11435</th>\n",
       "      <td>1</td>\n",
       "      <td>1</td>\n",
       "      <td>0</td>\n",
       "      <td>1954</td>\n",
       "      <td>2</td>\n",
       "      <td>60.0</td>\n",
       "      <td>DD</td>\n",
       "    </tr>\n",
       "  </tbody>\n",
       "</table>"
      ],
      "text/plain": [
       "<IPython.core.display.HTML object>"
      ]
     },
     "metadata": {},
     "output_type": "display_data"
    }
   ],
   "source": [
    "train_tb.show()"
   ]
  },
  {
   "cell_type": "markdown",
   "metadata": {},
   "source": [
    "# Implement Random Forest Classifier"
   ]
  },
  {
   "cell_type": "markdown",
   "metadata": {},
   "source": [
    "## Set up Model and Error Measure"
   ]
  },
  {
   "cell_type": "code",
   "execution_count": 12,
   "metadata": {},
   "outputs": [],
   "source": [
    "def rf(xs, y, n_estimators=4, max_samples=450,\n",
    "       max_features=0.5, min_samples_leaf=5, **kwargs):\n",
    "    return RandomForestClassifier(n_jobs=-1, n_estimators=n_estimators,\n",
    "        max_samples=max_samples, max_features=max_features,\n",
    "        min_samples_leaf=min_samples_leaf, oob_score=True).fit(xs, y)"
   ]
  },
  {
   "cell_type": "code",
   "execution_count": 13,
   "metadata": {},
   "outputs": [
    {
     "data": {
      "text/plain": [
       "churn_reason_code\n",
       "AB     191\n",
       "DD    5727\n",
       "IM      54\n",
       "MH    9040\n",
       "NR       5\n",
       "dtype: int64"
      ]
     },
     "metadata": {},
     "output_type": "display_data"
    }
   ],
   "source": [
    "# error measures \n",
    "display(churn_df.groupby(\"churn_reason_code\").size())\n",
    "\n",
    "# note that classes are imbalanced so we will use balanced accuracy score\n",
    "def calc_f1_score(model, x, y):\n",
    "    return f1_score(y,model.predict(x), average=\"weighted\")\n"
   ]
  },
  {
   "cell_type": "code",
   "execution_count": 14,
   "metadata": {},
   "outputs": [],
   "source": [
    "x_train = train_tb.train.xs\n",
    "y_train = train_tb.train.y\n",
    "x_valid = train_tb.valid.xs\n",
    "y_valid = train_tb.valid.y"
   ]
  },
  {
   "cell_type": "code",
   "execution_count": 15,
   "metadata": {},
   "outputs": [
    {
     "data": {
      "text/plain": [
       "0.8797195740690901"
      ]
     },
     "execution_count": 15,
     "metadata": {},
     "output_type": "execute_result"
    }
   ],
   "source": [
    "# test error metric before hyperparameter optimization\n",
    "m = rf(x_train,y_train)\n",
    "m.predict(x_train)\n",
    "calc_f1_score(m, x_train, y_train)\n",
    "# pretty bad but lets see if we can improve with hyperparameter tuning"
   ]
  },
  {
   "cell_type": "code",
   "execution_count": 16,
   "metadata": {},
   "outputs": [],
   "source": [
    "# test combinations of max_samples\n",
    "import matplotlib.pyplot as plt\n",
    "\n",
    "def test_hyperparam(param_name, param_range, xs,y,valid_xs,valid_y, visualize=True):\n",
    "  param_val = []\n",
    "  train_f1_score = []\n",
    "  val_f1_score = []\n",
    "\n",
    "  for i in range(len(param_range)):\n",
    "    param_val.append(param_range[i])\n",
    "    param_kwarg = {param_name: param_range[i]}\n",
    "    m = rf(xs,y,**param_kwarg)\n",
    "    train_f1_score.append(calc_f1_score(m,xs,y))\n",
    "    val_f1_score.append(calc_f1_score(m,valid_xs,valid_y))\n",
    "\n",
    "  if visualize:\n",
    "    plt.figure(figsize=(10, 6))\n",
    "    plt.plot(param_val, train_f1_score, label=\"train F1 score\", color=\"blue\")\n",
    "    plt.plot(param_val, val_f1_score, label=\"validation F1 score\", color=\"red\")\n",
    "      # Add a legend\n",
    "    plt.legend()\n",
    "\n",
    "    # Add title and labels\n",
    "    plt.xlabel(param_name)\n",
    "    plt.ylabel(\"F1 Score\")\n",
    "\n",
    "\n",
    "  return param_val, train_f1_score, val_f1_score"
   ]
  },
  {
   "cell_type": "code",
   "execution_count": 17,
   "metadata": {},
   "outputs": [
    {
     "name": "stdout",
     "output_type": "stream",
     "text": [
      "[  25   50   75  100  125  150  175  200  225  250  275  300  325  350\n",
      "  375  400  425  450  475  500  525  550  575  600  625  650  675  700\n",
      "  725  750  775  800  825  850  875  900  925  950  975 1000 1025 1050\n",
      " 1075 1100]\n"
     ]
    },
    {
     "name": "stderr",
     "output_type": "stream",
     "text": [
      "/Users/austinpaxton/Documents/dev/take_home_coding/validate_health/venv/lib/python3.9/site-packages/sklearn/ensemble/_forest.py:615: UserWarning: Some inputs do not have OOB scores. This probably means too few trees were used to compute any reliable OOB estimates.\n",
      "  warn(\n",
      "/Users/austinpaxton/Documents/dev/take_home_coding/validate_health/venv/lib/python3.9/site-packages/sklearn/ensemble/_forest.py:615: UserWarning: Some inputs do not have OOB scores. This probably means too few trees were used to compute any reliable OOB estimates.\n",
      "  warn(\n",
      "/Users/austinpaxton/Documents/dev/take_home_coding/validate_health/venv/lib/python3.9/site-packages/sklearn/ensemble/_forest.py:615: UserWarning: Some inputs do not have OOB scores. This probably means too few trees were used to compute any reliable OOB estimates.\n",
      "  warn(\n",
      "/Users/austinpaxton/Documents/dev/take_home_coding/validate_health/venv/lib/python3.9/site-packages/sklearn/ensemble/_forest.py:615: UserWarning: Some inputs do not have OOB scores. This probably means too few trees were used to compute any reliable OOB estimates.\n",
      "  warn(\n",
      "/Users/austinpaxton/Documents/dev/take_home_coding/validate_health/venv/lib/python3.9/site-packages/sklearn/ensemble/_forest.py:615: UserWarning: Some inputs do not have OOB scores. This probably means too few trees were used to compute any reliable OOB estimates.\n",
      "  warn(\n",
      "/Users/austinpaxton/Documents/dev/take_home_coding/validate_health/venv/lib/python3.9/site-packages/sklearn/ensemble/_forest.py:615: UserWarning: Some inputs do not have OOB scores. This probably means too few trees were used to compute any reliable OOB estimates.\n",
      "  warn(\n",
      "/Users/austinpaxton/Documents/dev/take_home_coding/validate_health/venv/lib/python3.9/site-packages/sklearn/ensemble/_forest.py:615: UserWarning: Some inputs do not have OOB scores. This probably means too few trees were used to compute any reliable OOB estimates.\n",
      "  warn(\n",
      "/Users/austinpaxton/Documents/dev/take_home_coding/validate_health/venv/lib/python3.9/site-packages/sklearn/ensemble/_forest.py:615: UserWarning: Some inputs do not have OOB scores. This probably means too few trees were used to compute any reliable OOB estimates.\n",
      "  warn(\n",
      "/Users/austinpaxton/Documents/dev/take_home_coding/validate_health/venv/lib/python3.9/site-packages/sklearn/ensemble/_forest.py:615: UserWarning: Some inputs do not have OOB scores. This probably means too few trees were used to compute any reliable OOB estimates.\n",
      "  warn(\n"
     ]
    },
    {
     "data": {
      "image/png": "[encoded data removed]",
      "text/plain": [
       "<Figure size 1000x600 with 1 Axes>"
      ]
     },
     "metadata": {},
     "output_type": "display_data"
    }
   ],
   "source": [
    "test_range = np.linspace(25,1100,44).astype(\"int\")\n",
    "print(test_range)\n",
    "param_vals,train_BA_score,val_BA_score = test_hyperparam(\"max_samples\", test_range, x_train,y_train,x_valid,y_valid)"
   ]
  },
  {
   "cell_type": "code",
   "execution_count": 18,
   "metadata": {},
   "outputs": [],
   "source": [
    "# lets proceed with 800 samples for the Random Forest Classifier \n",
    "def rf(xs, y, n_estimators=4, max_samples=800,\n",
    "       max_features=0.5, min_samples_leaf=5, **kwargs):\n",
    "    return RandomForestClassifier(n_jobs=-1, n_estimators=n_estimators,\n",
    "        max_samples=max_samples, max_features=max_features,\n",
    "        min_samples_leaf=min_samples_leaf, oob_score=True).fit(xs, y)"
   ]
  },
  {
   "cell_type": "code",
   "execution_count": 19,
   "metadata": {},
   "outputs": [
    {
     "name": "stdout",
     "output_type": "stream",
     "text": [
      "[1 2 3 4 5 6]\n"
     ]
    },
    {
     "name": "stderr",
     "output_type": "stream",
     "text": [
      "/Users/austinpaxton/Documents/dev/take_home_coding/validate_health/venv/lib/python3.9/site-packages/sklearn/ensemble/_forest.py:615: UserWarning: Some inputs do not have OOB scores. This probably means too few trees were used to compute any reliable OOB estimates.\n",
      "  warn(\n",
      "/Users/austinpaxton/Documents/dev/take_home_coding/validate_health/venv/lib/python3.9/site-packages/sklearn/ensemble/_forest.py:615: UserWarning: Some inputs do not have OOB scores. This probably means too few trees were used to compute any reliable OOB estimates.\n",
      "  warn(\n",
      "/Users/austinpaxton/Documents/dev/take_home_coding/validate_health/venv/lib/python3.9/site-packages/sklearn/ensemble/_forest.py:615: UserWarning: Some inputs do not have OOB scores. This probably means too few trees were used to compute any reliable OOB estimates.\n",
      "  warn(\n"
     ]
    },
    {
     "data": {
      "image/png": "[encoded data removed]",
      "text/plain": [
       "<Figure size 1000x600 with 1 Axes>"
      ]
     },
     "metadata": {},
     "output_type": "display_data"
    }
   ],
   "source": [
    "# lets adjust number of estimtors and see if we can improve balanced accuracy score\n",
    "test_range = np.linspace(1,6,6).astype(\"int\")\n",
    "print(test_range)\n",
    "param_vals,train_BA_score,val_BA_score = test_hyperparam(\"n_estimators\", test_range, x_train,y_train,x_valid,y_valid)"
   ]
  },
  {
   "cell_type": "code",
   "execution_count": 20,
   "metadata": {},
   "outputs": [],
   "source": [
    "# lets proceed with 5 estimators\n",
    "def rf(xs, y, n_estimators=5, max_samples=800,\n",
    "       max_features=0.5, min_samples_leaf=5, **kwargs):\n",
    "    return RandomForestClassifier(n_jobs=-1, n_estimators=n_estimators,\n",
    "        max_samples=max_samples, max_features=max_features,\n",
    "        min_samples_leaf=min_samples_leaf, oob_score=True).fit(xs, y)"
   ]
  },
  {
   "cell_type": "markdown",
   "metadata": {},
   "source": [
    "## Train Final Model\n",
    "* hyperparameters are tuned and now it is time to train our model on the full training set (including validation) and test on test set"
   ]
  },
  {
   "cell_type": "code",
   "execution_count": 21,
   "metadata": {},
   "outputs": [],
   "source": [
    "full_train_idx = list(range(len(train)))\n",
    "test_idx = list(range(len(train), len(train) + len(test)))\n",
    "\n",
    "# Concatenate train and test dataframes for use in TabularPandas\n",
    "full_data = pd.concat([train, test]).reset_index(drop=True)\n",
    "\n",
    "# Define splits for TabularPandas, keeping test data completely separate\n",
    "splits = (full_train_idx, test_idx)\n"
   ]
  },
  {
   "cell_type": "code",
   "execution_count": 22,
   "metadata": {},
   "outputs": [],
   "source": [
    "# load training and test data into tabular pandas object\n",
    "procs = [Categorify]\n",
    "tb = TabularPandas(full_data, procs, cat_names=cat, cont_names=cont, y_names=\"churn_reason_code\", splits=splits)"
   ]
  },
  {
   "cell_type": "code",
   "execution_count": 23,
   "metadata": {},
   "outputs": [],
   "source": [
    "x_train = tb.train.xs\n",
    "y_train = tb.train.y\n",
    "x_test = tb.valid.xs\n",
    "y_test = tb.valid.y\n"
   ]
  },
  {
   "cell_type": "code",
   "execution_count": 24,
   "metadata": {},
   "outputs": [
    {
     "name": "stdout",
     "output_type": "stream",
     "text": [
      "Train F1 score: 0.8991904327551737\n",
      "Test F1 score: 0.9021562053744839\n",
      "Train Data Predictive Accuracy Score: 0.9065340018802883\n",
      "Test Data Predictive Accuracy Score: 0.908566355969818\n"
     ]
    }
   ],
   "source": [
    "m = rf(x_train,y_train)\n",
    "\n",
    "def display_metrics(m, x_train=x_train, y_train=y_train, x_test=x_test, y_test=y_test):\n",
    "    print(f\"Train F1 score: {calc_f1_score(m,x_train,y_train)}\")\n",
    "    print(f\"Test F1 score: {calc_f1_score(m,x_test,y_test)}\")\n",
    "    print(f\"Train Data Predictive Accuracy Score: {accuracy_score(y_train, m.predict(x_train))}\")\n",
    "    print(f\"Test Data Predictive Accuracy Score: {accuracy_score(y_test, m.predict(x_test))}\")\n",
    "\n",
    "display_metrics(m)"
   ]
  },
  {
   "cell_type": "code",
   "execution_count": 25,
   "metadata": {},
   "outputs": [
    {
     "name": "stdout",
     "output_type": "stream",
     "text": [
      "       Sex  Birth Year  Assignment Step Flag  Count of Primary Care Services  \\\n",
      "0        2        1935                     1                               3   \n",
      "1        1        1925                     1                               4   \n",
      "2        2        1930                     1                               6   \n",
      "3        1        1942                     1                               1   \n",
      "4        1        1942                     1                               3   \n",
      "...    ...         ...                   ...                             ...   \n",
      "15012    2        1926                     1                               1   \n",
      "15013    1        1939                     1                               4   \n",
      "15014    2        1941                     2                               4   \n",
      "15015    2        1936                     1                               1   \n",
      "15016    2        1946                     1                               1   \n",
      "\n",
      "      churn_reason_code   age  is_dead  \n",
      "0                    MH  89.0        0  \n",
      "1                    DD  89.0        1  \n",
      "2                    MH  94.0        1  \n",
      "3                    MH  82.0        1  \n",
      "4                    MH  82.0        0  \n",
      "...                 ...   ...      ...  \n",
      "15012                DD  88.0        0  \n",
      "15013                MH  85.0        0  \n",
      "15014                DD  73.0        0  \n",
      "15015                MH  81.0        0  \n",
      "15016                MH  78.0        0  \n",
      "\n",
      "[15017 rows x 7 columns]\n"
     ]
    }
   ],
   "source": [
    "print(full_data)"
   ]
  },
  {
   "cell_type": "markdown",
   "metadata": {},
   "source": [
    "## Analyze Importance of Factors"
   ]
  },
  {
   "cell_type": "code",
   "execution_count": 26,
   "metadata": {},
   "outputs": [
    {
     "data": {
      "text/plain": [
       "<Axes: ylabel='cols'>"
      ]
     },
     "execution_count": 26,
     "metadata": {},
     "output_type": "execute_result"
    },
    {
     "data": {
      "image/png": "[encoded data removed]",
      "text/plain": [
       "<Figure size 1200x700 with 1 Axes>"
      ]
     },
     "metadata": {},
     "output_type": "display_data"
    }
   ],
   "source": [
    "def rf_feat_importance(m, df):\n",
    "    return pd.DataFrame({'cols':df.columns, 'imp':m.feature_importances_}\n",
    "                       ).sort_values('imp', ascending=False)\n",
    "\n",
    "def plot_fi(fi):\n",
    "    return fi.plot('cols', 'imp', 'barh', figsize=(12,7), legend=False)\n",
    "\n",
    "fi = rf_feat_importance(m, x_train)\n",
    "plot_fi(fi)"
   ]
  },
  {
   "cell_type": "code",
   "execution_count": 27,
   "metadata": {},
   "outputs": [],
   "source": [
    "# lets remove birth year and see if it has a difference\n",
    "\n",
    "def remove_feature(drop_col_name,x_train=x_train, y_train=y_train, x_test=x_test, y_test=y_test):\n",
    "    xr_train = x_train.drop(columns=drop_col_name)\n",
    "    xr_test = x_test.drop(columns=drop_col_name)\n",
    "    m = rf(xr_train,y_train)\n",
    "    print(len(xr_test))\n",
    "    print(len(y_test))\n",
    "    display_metrics(m, xr_train, y_train, xr_test, y_test)\n",
    "    return m"
   ]
  },
  {
   "cell_type": "code",
   "execution_count": 28,
   "metadata": {},
   "outputs": [
    {
     "name": "stdout",
     "output_type": "stream",
     "text": [
      "2253\n",
      "2253\n",
      "Train F1 score: 0.5858211663941191\n",
      "Test F1 score: 0.5701636600072261\n",
      "Train Data Predictive Accuracy Score: 0.6167345659667816\n",
      "Test Data Predictive Accuracy Score: 0.60497114957834\n"
     ]
    }
   ],
   "source": [
    "m_ = remove_feature(\"Birth Year\")\n",
    "\n",
    "# accuracy severly decreases after removing most important varaible as expected \n"
   ]
  },
  {
   "cell_type": "code",
   "execution_count": 29,
   "metadata": {},
   "outputs": [
    {
     "name": "stdout",
     "output_type": "stream",
     "text": [
      "2253\n",
      "2253\n",
      "Train F1 score: 0.8821767356907717\n",
      "Test F1 score: 0.8825488416289134\n",
      "Train Data Predictive Accuracy Score: 0.8892196803509872\n",
      "Test Data Predictive Accuracy Score: 0.8890368397691967\n"
     ]
    }
   ],
   "source": [
    "\n",
    "m_ =remove_feature(\"is_dead\")\n",
    "# similar accuracy as before"
   ]
  },
  {
   "cell_type": "code",
   "execution_count": 30,
   "metadata": {},
   "outputs": [
    {
     "name": "stdout",
     "output_type": "stream",
     "text": [
      "2253\n",
      "2253\n",
      "Train F1 score: 0.9102739024799944\n",
      "Test F1 score: 0.9100373571848347\n",
      "Train Data Predictive Accuracy Score: 0.9178157317455343\n",
      "Test Data Predictive Accuracy Score: 0.9169995561473591\n"
     ]
    }
   ],
   "source": [
    "\n",
    "m_ =remove_feature(\"Assignment Step Flag\")\n",
    "# similar accuracy as before"
   ]
  },
  {
   "cell_type": "code",
   "execution_count": 31,
   "metadata": {},
   "outputs": [
    {
     "name": "stdout",
     "output_type": "stream",
     "text": [
      "2253\n",
      "2253\n",
      "Train F1 score: 0.6916847363594162\n",
      "Test F1 score: 0.6821829263038616\n",
      "Train Data Predictive Accuracy Score: 0.7079285490441868\n",
      "Test Data Predictive Accuracy Score: 0.698624056813138\n"
     ]
    }
   ],
   "source": [
    "\n",
    "m_ =remove_feature(\"age\")\n",
    "# age drastically reduces accuracy "
   ]
  },
  {
   "cell_type": "markdown",
   "metadata": {},
   "source": [
    "# Analyze Feature Importances per category by converting problem from MultiClass to Binary "
   ]
  },
  {
   "cell_type": "code",
   "execution_count": 38,
   "metadata": {},
   "outputs": [
    {
     "name": "stdout",
     "output_type": "stream",
     "text": [
      "1\n",
      "1\n",
      "1\n",
      "1\n",
      "1\n",
      "0\n"
     ]
    }
   ],
   "source": [
    "# Dictionary to store feature importances for each churn reason\n",
    "feature_importances = {}\n",
    "unique_churn_reasons = [0,1,2,3,4,5]\n",
    "\n",
    "for reason in unique_churn_reasons:\n",
    "    # Create a binary target column for the specific churn reason\n",
    "    y_train_bin = (y_train == reason).astype(int)\n",
    "    # Initialize and train the Random Forest model\n",
    "    model = rf(x_train,y_train_bin)\n",
    "\n",
    "    fi = model.feature_importances_\n",
    "\n",
    "    feature_importances[reason] = fi\n"
   ]
  },
  {
   "cell_type": "code",
   "execution_count": 54,
   "metadata": {},
   "outputs": [
    {
     "name": "stdout",
     "output_type": "stream",
     "text": [
      "{'DD': array([0.07311198, 0.0186446 , 0.03446799, 0.27716683, 0.22984102,\n",
      "       0.36676758]), 'IM': array([0.0058522 , 0.00832664, 0.00207318, 0.55283745, 0.02240088,\n",
      "       0.40850965]), 'AB': array([0.08623684, 0.00161134, 0.        , 0.23821868, 0.13199205,\n",
      "       0.54194108]), 'MH': array([0.02188829, 0.01376353, 0.00653579, 0.54704166, 0.03487495,\n",
      "       0.37589577]), 'NR': array([0.        , 0.        , 0.        , 0.49540754, 0.35285043,\n",
      "       0.15174204]), 'OI': array([0., 0., 0., 0., 0., 0.])}\n"
     ]
    },
    {
     "data": {
      "text/plain": [
       "Index(['Sex', 'Assignment Step Flag', 'is_dead', 'Birth Year',\n",
       "       'Count of Primary Care Services', 'age'],\n",
       "      dtype='object')"
      ]
     },
     "execution_count": 54,
     "metadata": {},
     "output_type": "execute_result"
    }
   ],
   "source": [
    "# map codes back to symbols:\n",
    "feature_importances = {choices[key]: value for key,value in feature_importances.items()}\n",
    "print(fi)\n",
    "\n",
    "\n",
    "x_train.columns"
   ]
  },
  {
   "cell_type": "code",
   "execution_count": 60,
   "metadata": {},
   "outputs": [
    {
     "data": {
      "image/png": "[encoded data removed]",
      "text/plain": [
       "<Figure size 1200x600 with 1 Axes>"
      ]
     },
     "metadata": {},
     "output_type": "display_data"
    }
   ],
   "source": [
    "features = x_train.columns\n",
    "\n",
    "# Number of features\n",
    "n_features = len(features)\n",
    "\n",
    "# Number of codes\n",
    "codes = list(feature_importances.keys())\n",
    "n_codes = len(codes)\n",
    "\n",
    "# Position of bars on x-axis\n",
    "ind = np.arange(n_codes)\n",
    "\n",
    "# Width of each bar\n",
    "width = 0.1\n",
    "\n",
    "fig, ax = plt.subplots(figsize=(12, 6))\n",
    "\n",
    "for i, feature in enumerate(features):\n",
    "    # Extract the feature importance for each code\n",
    "    importances = [feature_importances[code][i] for code in codes]\n",
    "    # Plotting each set of feature importances\n",
    "    ax.bar(ind + i*width, importances, width, label=feature)\n",
    "\n",
    "# Formatting and labels\n",
    "ax.set_xlabel('Churn Code')\n",
    "ax.set_ylabel('Importance')\n",
    "ax.set_title('Feature Importances by Churn Code')\n",
    "ax.set_xticks(ind + width * (n_features - 1) / 2)  # Center the labels between the sets of bars\n",
    "ax.set_xticklabels(codes)\n",
    "ax.legend(title='Feature', bbox_to_anchor=(1.05, 1), loc='upper left')\n",
    "\n",
    "plt.xticks(rotation=45)\n",
    "plt.tight_layout()\n",
    "plt.show()"
   ]
  },
  {
   "cell_type": "code",
   "execution_count": null,
   "metadata": {},
   "outputs": [],
   "source": []
  }
 ],
 "metadata": {
  "kernelspec": {
   "display_name": "venv",
   "language": "python",
   "name": "python3"
  },
  "language_info": {
   "codemirror_mode": {
    "name": "ipython",
    "version": 3
   },
   "file_extension": ".py",
   "mimetype": "text/x-python",
   "name": "python",
   "nbconvert_exporter": "python",
   "pygments_lexer": "ipython3",
   "version": "3.9.19"
  }
 },
 "nbformat": 4,
 "nbformat_minor": 2
}
